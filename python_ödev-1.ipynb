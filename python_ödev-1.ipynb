name = str(input("lütfen isminizi yazınız: "))
password = str(input("lütfen şifrenizi belirleyin: "))
new_user = str(input("hoşgeldiniz lütfen isminizi giriniz: "))
if new_user == name :
    print("Hello {}!The password is: {}".format(new_user,password))
else:
    print("Hello Amina!See you later.")